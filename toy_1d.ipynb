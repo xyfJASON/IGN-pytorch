{
 "cells": [
  {
   "cell_type": "code",
   "execution_count": 1,
   "id": "initial_id",
   "metadata": {
    "collapsed": true,
    "ExecuteTime": {
     "end_time": "2023-12-08T11:23:42.696659Z",
     "start_time": "2023-12-08T11:23:38.704340Z"
    }
   },
   "outputs": [],
   "source": [
    "import matplotlib.pyplot as plt\n",
    "\n",
    "import torch\n",
    "import torch.nn as nn\n",
    "import torch.optim as optim\n",
    "from torch.utils.data import Dataset, DataLoader"
   ]
  },
  {
   "cell_type": "code",
   "execution_count": 2,
   "outputs": [
    {
     "data": {
      "text/plain": "<torch._C.Generator at 0x10defe370>"
     },
     "execution_count": 2,
     "metadata": {},
     "output_type": "execute_result"
    }
   ],
   "source": [
    "torch.manual_seed(2023)"
   ],
   "metadata": {
    "collapsed": false,
    "ExecuteTime": {
     "end_time": "2023-12-08T11:23:42.717965Z",
     "start_time": "2023-12-08T11:23:42.700438Z"
    }
   },
   "id": "297a673af907f231"
  },
  {
   "cell_type": "markdown",
   "source": [
    "## Dataset"
   ],
   "metadata": {
    "collapsed": false
   },
   "id": "d4dad0030678d74b"
  },
  {
   "cell_type": "code",
   "execution_count": 3,
   "outputs": [],
   "source": [
    "class ToyDataset(Dataset):\n",
    "    def __init__(self):\n",
    "        self.x = torch.cat([\n",
    "            torch.randn((300, 1)) * 0.1 + 0.6,\n",
    "            torch.randn((700, 1)) * 0.05 - 0.4,\n",
    "        ])\n",
    "        self.x.clamp_(-1, 1)\n",
    "    \n",
    "    def __len__(self):\n",
    "        return len(self.x)\n",
    "\n",
    "    def __getitem__(self, item):\n",
    "        return self.x[item]"
   ],
   "metadata": {
    "collapsed": false,
    "ExecuteTime": {
     "end_time": "2023-12-08T11:23:42.739548Z",
     "start_time": "2023-12-08T11:23:42.713746Z"
    }
   },
   "id": "48ef537d1d0e7e87"
  },
  {
   "cell_type": "code",
   "execution_count": 4,
   "outputs": [
    {
     "data": {
      "text/plain": "<Figure size 640x480 with 1 Axes>",
      "image/png": "[encoded data removed]"
     },
     "metadata": {},
     "output_type": "display_data"
    }
   ],
   "source": [
    "dataset = ToyDataset()\n",
    "plt.hist(dataset.x[:, 0], bins=100)\n",
    "plt.xlim(-1, 1)\n",
    "plt.show()"
   ],
   "metadata": {
    "collapsed": false,
    "ExecuteTime": {
     "end_time": "2023-12-08T11:23:43.021143Z",
     "start_time": "2023-12-08T11:23:42.729324Z"
    }
   },
   "id": "4a437f149a511e28"
  },
  {
   "cell_type": "markdown",
   "source": [
    "## Model"
   ],
   "metadata": {
    "collapsed": false
   },
   "id": "a5b504b2ae44c592"
  },
  {
   "cell_type": "code",
   "execution_count": 5,
   "outputs": [],
   "source": [
    "class MLP(nn.Module):\n",
    "    def __init__(self):\n",
    "        super().__init__()\n",
    "        self.mlp = nn.Sequential(\n",
    "            nn.Linear(1, 10),\n",
    "            nn.LeakyReLU(0.2),\n",
    "            nn.Linear(10, 50),\n",
    "            nn.LeakyReLU(0.2),\n",
    "            nn.Linear(50, 10),\n",
    "            nn.LeakyReLU(0.2),\n",
    "            nn.Linear(10, 1),\n",
    "            nn.Tanh(),\n",
    "        )\n",
    "\n",
    "    def forward(self, x):\n",
    "        x = self.mlp(x)\n",
    "        return x"
   ],
   "metadata": {
    "collapsed": false,
    "ExecuteTime": {
     "end_time": "2023-12-08T11:23:43.031520Z",
     "start_time": "2023-12-08T11:23:43.020141Z"
    }
   },
   "id": "7ee6e27b9934e64e"
  },
  {
   "cell_type": "code",
   "execution_count": 6,
   "outputs": [],
   "source": [
    "model = MLP()\n",
    "model_copy = MLP().requires_grad_(False)"
   ],
   "metadata": {
    "collapsed": false,
    "ExecuteTime": {
     "end_time": "2023-12-08T11:23:43.033066Z",
     "start_time": "2023-12-08T11:23:43.026853Z"
    }
   },
   "id": "e75d0ac8bd0d71ac"
  },
  {
   "cell_type": "markdown",
   "source": [
    "## Training"
   ],
   "metadata": {
    "collapsed": false
   },
   "id": "a48ed9a598cb0107"
  },
  {
   "cell_type": "code",
   "execution_count": 7,
   "outputs": [],
   "source": [
    "lr = 0.005\n",
    "batch_size = 1000\n",
    "n_epochs = 100"
   ],
   "metadata": {
    "collapsed": false,
    "ExecuteTime": {
     "end_time": "2023-12-08T11:23:43.086155Z",
     "start_time": "2023-12-08T11:23:43.036184Z"
    }
   },
   "id": "d9210d1dc4683645"
  },
  {
   "cell_type": "code",
   "execution_count": 8,
   "outputs": [],
   "source": [
    "dataloader = DataLoader(dataset, batch_size=batch_size, shuffle=True)\n",
    "optimizer = optim.Adam(model.parameters(), lr=lr)\n",
    "mse = nn.MSELoss()"
   ],
   "metadata": {
    "collapsed": false,
    "ExecuteTime": {
     "end_time": "2023-12-08T11:23:44.363976Z",
     "start_time": "2023-12-08T11:23:43.043632Z"
    }
   },
   "id": "672d68e227facc7"
  },
  {
   "cell_type": "code",
   "execution_count": 9,
   "outputs": [
    {
     "name": "stdout",
     "output_type": "stream",
     "text": [
      "Epoch 0: loss=0.204, loss_rec=0.204, loss_idem=0.000, loss_tight=-0.000\n",
      "Epoch 1: loss=0.184, loss_rec=0.183, loss_idem=0.001, loss_tight=-0.001\n",
      "Epoch 2: loss=0.169, loss_rec=0.166, loss_idem=0.004, loss_tight=-0.004\n",
      "Epoch 3: loss=0.157, loss_rec=0.150, loss_idem=0.008, loss_tight=-0.008\n",
      "Epoch 4: loss=0.146, loss_rec=0.136, loss_idem=0.011, loss_tight=-0.011\n",
      "Epoch 5: loss=0.137, loss_rec=0.123, loss_idem=0.015, loss_tight=-0.015\n",
      "Epoch 6: loss=0.129, loss_rec=0.112, loss_idem=0.018, loss_tight=-0.018\n",
      "Epoch 7: loss=0.123, loss_rec=0.103, loss_idem=0.023, loss_tight=-0.023\n",
      "Epoch 8: loss=0.116, loss_rec=0.093, loss_idem=0.025, loss_tight=-0.025\n",
      "Epoch 9: loss=0.107, loss_rec=0.084, loss_idem=0.026, loss_tight=-0.026\n",
      "Epoch 10: loss=0.095, loss_rec=0.074, loss_idem=0.024, loss_tight=-0.024\n",
      "Epoch 11: loss=0.083, loss_rec=0.065, loss_idem=0.021, loss_tight=-0.021\n",
      "Epoch 12: loss=0.071, loss_rec=0.056, loss_idem=0.016, loss_tight=-0.016\n",
      "Epoch 13: loss=0.061, loss_rec=0.048, loss_idem=0.015, loss_tight=-0.015\n",
      "Epoch 14: loss=0.053, loss_rec=0.041, loss_idem=0.013, loss_tight=-0.013\n",
      "Epoch 15: loss=0.046, loss_rec=0.034, loss_idem=0.013, loss_tight=-0.013\n",
      "Epoch 16: loss=0.040, loss_rec=0.028, loss_idem=0.013, loss_tight=-0.013\n",
      "Epoch 17: loss=0.032, loss_rec=0.021, loss_idem=0.012, loss_tight=-0.012\n",
      "Epoch 18: loss=0.026, loss_rec=0.015, loss_idem=0.012, loss_tight=-0.012\n",
      "Epoch 19: loss=0.021, loss_rec=0.011, loss_idem=0.011, loss_tight=-0.011\n",
      "Epoch 20: loss=0.017, loss_rec=0.007, loss_idem=0.011, loss_tight=-0.011\n",
      "Epoch 21: loss=0.015, loss_rec=0.005, loss_idem=0.011, loss_tight=-0.011\n",
      "Epoch 22: loss=0.014, loss_rec=0.004, loss_idem=0.012, loss_tight=-0.012\n",
      "Epoch 23: loss=0.015, loss_rec=0.003, loss_idem=0.013, loss_tight=-0.013\n",
      "Epoch 24: loss=0.016, loss_rec=0.003, loss_idem=0.014, loss_tight=-0.014\n",
      "Epoch 25: loss=0.015, loss_rec=0.003, loss_idem=0.013, loss_tight=-0.013\n",
      "Epoch 26: loss=0.014, loss_rec=0.003, loss_idem=0.012, loss_tight=-0.012\n",
      "Epoch 27: loss=0.013, loss_rec=0.003, loss_idem=0.012, loss_tight=-0.012\n",
      "Epoch 28: loss=0.013, loss_rec=0.003, loss_idem=0.011, loss_tight=-0.011\n",
      "Epoch 29: loss=0.012, loss_rec=0.003, loss_idem=0.010, loss_tight=-0.010\n",
      "Epoch 30: loss=0.010, loss_rec=0.003, loss_idem=0.007, loss_tight=-0.007\n",
      "Epoch 31: loss=0.010, loss_rec=0.004, loss_idem=0.007, loss_tight=-0.007\n",
      "Epoch 32: loss=0.008, loss_rec=0.004, loss_idem=0.005, loss_tight=-0.005\n",
      "Epoch 33: loss=0.007, loss_rec=0.003, loss_idem=0.004, loss_tight=-0.004\n",
      "Epoch 34: loss=0.006, loss_rec=0.003, loss_idem=0.003, loss_tight=-0.003\n",
      "Epoch 35: loss=0.006, loss_rec=0.003, loss_idem=0.003, loss_tight=-0.003\n",
      "Epoch 36: loss=0.008, loss_rec=0.004, loss_idem=0.005, loss_tight=-0.005\n",
      "Epoch 37: loss=0.011, loss_rec=0.005, loss_idem=0.006, loss_tight=-0.006\n",
      "Epoch 38: loss=0.011, loss_rec=0.006, loss_idem=0.006, loss_tight=-0.006\n",
      "Epoch 39: loss=0.010, loss_rec=0.005, loss_idem=0.006, loss_tight=-0.006\n",
      "Epoch 40: loss=0.009, loss_rec=0.004, loss_idem=0.005, loss_tight=-0.005\n",
      "Epoch 41: loss=0.008, loss_rec=0.004, loss_idem=0.004, loss_tight=-0.004\n",
      "Epoch 42: loss=0.007, loss_rec=0.004, loss_idem=0.003, loss_tight=-0.003\n",
      "Epoch 43: loss=0.006, loss_rec=0.004, loss_idem=0.003, loss_tight=-0.003\n",
      "Epoch 44: loss=0.006, loss_rec=0.003, loss_idem=0.003, loss_tight=-0.003\n",
      "Epoch 45: loss=0.005, loss_rec=0.003, loss_idem=0.002, loss_tight=-0.002\n",
      "Epoch 46: loss=0.005, loss_rec=0.003, loss_idem=0.002, loss_tight=-0.002\n",
      "Epoch 47: loss=0.005, loss_rec=0.003, loss_idem=0.002, loss_tight=-0.002\n",
      "Epoch 48: loss=0.005, loss_rec=0.003, loss_idem=0.002, loss_tight=-0.002\n",
      "Epoch 49: loss=0.005, loss_rec=0.003, loss_idem=0.002, loss_tight=-0.002\n",
      "Epoch 50: loss=0.006, loss_rec=0.003, loss_idem=0.003, loss_tight=-0.003\n",
      "Epoch 51: loss=0.006, loss_rec=0.003, loss_idem=0.003, loss_tight=-0.003\n",
      "Epoch 52: loss=0.006, loss_rec=0.003, loss_idem=0.003, loss_tight=-0.003\n",
      "Epoch 53: loss=0.006, loss_rec=0.003, loss_idem=0.004, loss_tight=-0.004\n",
      "Epoch 54: loss=0.006, loss_rec=0.003, loss_idem=0.004, loss_tight=-0.004\n",
      "Epoch 55: loss=0.006, loss_rec=0.003, loss_idem=0.004, loss_tight=-0.004\n",
      "Epoch 56: loss=0.006, loss_rec=0.003, loss_idem=0.004, loss_tight=-0.004\n",
      "Epoch 57: loss=0.007, loss_rec=0.003, loss_idem=0.004, loss_tight=-0.004\n",
      "Epoch 58: loss=0.007, loss_rec=0.003, loss_idem=0.004, loss_tight=-0.004\n",
      "Epoch 59: loss=0.007, loss_rec=0.003, loss_idem=0.004, loss_tight=-0.004\n",
      "Epoch 60: loss=0.006, loss_rec=0.003, loss_idem=0.004, loss_tight=-0.004\n",
      "Epoch 61: loss=0.006, loss_rec=0.003, loss_idem=0.004, loss_tight=-0.004\n",
      "Epoch 62: loss=0.006, loss_rec=0.003, loss_idem=0.003, loss_tight=-0.003\n",
      "Epoch 63: loss=0.005, loss_rec=0.003, loss_idem=0.003, loss_tight=-0.003\n",
      "Epoch 64: loss=0.005, loss_rec=0.002, loss_idem=0.003, loss_tight=-0.003\n",
      "Epoch 65: loss=0.005, loss_rec=0.002, loss_idem=0.003, loss_tight=-0.003\n",
      "Epoch 66: loss=0.005, loss_rec=0.002, loss_idem=0.003, loss_tight=-0.003\n",
      "Epoch 67: loss=0.005, loss_rec=0.002, loss_idem=0.003, loss_tight=-0.003\n",
      "Epoch 68: loss=0.005, loss_rec=0.002, loss_idem=0.003, loss_tight=-0.003\n",
      "Epoch 69: loss=0.005, loss_rec=0.002, loss_idem=0.003, loss_tight=-0.003\n",
      "Epoch 70: loss=0.006, loss_rec=0.003, loss_idem=0.003, loss_tight=-0.003\n",
      "Epoch 71: loss=0.006, loss_rec=0.003, loss_idem=0.003, loss_tight=-0.003\n",
      "Epoch 72: loss=0.005, loss_rec=0.003, loss_idem=0.003, loss_tight=-0.003\n",
      "Epoch 73: loss=0.005, loss_rec=0.003, loss_idem=0.003, loss_tight=-0.003\n",
      "Epoch 74: loss=0.005, loss_rec=0.003, loss_idem=0.003, loss_tight=-0.003\n",
      "Epoch 75: loss=0.005, loss_rec=0.002, loss_idem=0.003, loss_tight=-0.003\n",
      "Epoch 76: loss=0.005, loss_rec=0.002, loss_idem=0.003, loss_tight=-0.003\n",
      "Epoch 77: loss=0.005, loss_rec=0.002, loss_idem=0.003, loss_tight=-0.003\n",
      "Epoch 78: loss=0.005, loss_rec=0.002, loss_idem=0.003, loss_tight=-0.003\n",
      "Epoch 79: loss=0.005, loss_rec=0.002, loss_idem=0.003, loss_tight=-0.003\n",
      "Epoch 80: loss=0.004, loss_rec=0.002, loss_idem=0.003, loss_tight=-0.003\n",
      "Epoch 81: loss=0.004, loss_rec=0.002, loss_idem=0.003, loss_tight=-0.003\n",
      "Epoch 82: loss=0.005, loss_rec=0.002, loss_idem=0.003, loss_tight=-0.003\n",
      "Epoch 83: loss=0.005, loss_rec=0.002, loss_idem=0.003, loss_tight=-0.003\n",
      "Epoch 84: loss=0.005, loss_rec=0.002, loss_idem=0.003, loss_tight=-0.003\n",
      "Epoch 85: loss=0.004, loss_rec=0.002, loss_idem=0.003, loss_tight=-0.003\n",
      "Epoch 86: loss=0.005, loss_rec=0.002, loss_idem=0.003, loss_tight=-0.003\n",
      "Epoch 87: loss=0.005, loss_rec=0.002, loss_idem=0.003, loss_tight=-0.003\n",
      "Epoch 88: loss=0.005, loss_rec=0.002, loss_idem=0.003, loss_tight=-0.003\n",
      "Epoch 89: loss=0.005, loss_rec=0.002, loss_idem=0.003, loss_tight=-0.003\n",
      "Epoch 90: loss=0.005, loss_rec=0.002, loss_idem=0.003, loss_tight=-0.003\n",
      "Epoch 91: loss=0.005, loss_rec=0.002, loss_idem=0.003, loss_tight=-0.003\n",
      "Epoch 92: loss=0.005, loss_rec=0.002, loss_idem=0.004, loss_tight=-0.004\n",
      "Epoch 93: loss=0.005, loss_rec=0.002, loss_idem=0.004, loss_tight=-0.004\n",
      "Epoch 94: loss=0.005, loss_rec=0.002, loss_idem=0.004, loss_tight=-0.004\n",
      "Epoch 95: loss=0.004, loss_rec=0.002, loss_idem=0.003, loss_tight=-0.003\n",
      "Epoch 96: loss=0.005, loss_rec=0.002, loss_idem=0.003, loss_tight=-0.003\n",
      "Epoch 97: loss=0.005, loss_rec=0.002, loss_idem=0.003, loss_tight=-0.003\n",
      "Epoch 98: loss=0.005, loss_rec=0.002, loss_idem=0.004, loss_tight=-0.004\n",
      "Epoch 99: loss=0.005, loss_rec=0.002, loss_idem=0.004, loss_tight=-0.004\n"
     ]
    }
   ],
   "source": [
    "losses = []\n",
    "for ep in range(n_epochs):\n",
    "    for i, x in enumerate(dataloader):\n",
    "        z = torch.randn_like(x)\n",
    "        \n",
    "        # apply f\n",
    "        model_copy.load_state_dict(model.state_dict())\n",
    "        fx = model(x)\n",
    "        fz = model(z)\n",
    "        f_z = fz.detach()\n",
    "        ff_z = model(f_z)\n",
    "        f_fz = model_copy(fz)\n",
    "        \n",
    "        # reconstruction loss\n",
    "        loss_rec = mse(fx, x)\n",
    "        # idempoence loss\n",
    "        loss_idem = mse(f_fz, fz)\n",
    "        # tightening loss\n",
    "        loss_tight = -mse(ff_z, f_z)\n",
    "        # total loss\n",
    "        loss = loss_rec + loss_idem + loss_tight * 0.1\n",
    "        \n",
    "        optimizer.zero_grad()\n",
    "        loss.backward()\n",
    "        optimizer.step()\n",
    "        \n",
    "        if i == len(dataloader) - 1:\n",
    "            losses.append(loss.item())\n",
    "            print(f'Epoch {ep}: '\n",
    "                  f'loss={loss.item():.3f}, '\n",
    "                  f'loss_rec={loss_rec.item():.3f}, '\n",
    "                  f'loss_idem={loss_idem.item():.3f}, '\n",
    "                  f'loss_tight={loss_tight.item():.3f}')"
   ],
   "metadata": {
    "collapsed": false,
    "ExecuteTime": {
     "end_time": "2023-12-08T11:23:45.300178Z",
     "start_time": "2023-12-08T11:23:44.370896Z"
    }
   },
   "id": "76aed345f97ef937"
  },
  {
   "cell_type": "markdown",
   "source": [
    "## Sample"
   ],
   "metadata": {
    "collapsed": false
   },
   "id": "b980a6776dae97fd"
  },
  {
   "cell_type": "code",
   "execution_count": 10,
   "outputs": [
    {
     "data": {
      "text/plain": "<Figure size 640x480 with 1 Axes>",
      "image/png": "[encoded data removed]"
     },
     "metadata": {},
     "output_type": "display_data"
    }
   ],
   "source": [
    "z = torch.randn(1000, 1)\n",
    "x = model(z).detach()\n",
    "plt.hist(dataset.x[:, 0], bins=100, alpha=0.4, label='real data')\n",
    "plt.hist(x[:, 0], bins=100, alpha=0.8, label='generated')\n",
    "plt.xlim(-1, 1)\n",
    "plt.legend()\n",
    "plt.show()"
   ],
   "metadata": {
    "collapsed": false,
    "ExecuteTime": {
     "end_time": "2023-12-08T11:23:45.848325Z",
     "start_time": "2023-12-08T11:23:45.308583Z"
    }
   },
   "id": "6784e9e26055634d"
  },
  {
   "cell_type": "code",
   "execution_count": 11,
   "outputs": [
    {
     "data": {
      "text/plain": "<Figure size 640x480 with 1 Axes>",
      "image/png": "[encoded data removed]"
     },
     "metadata": {},
     "output_type": "display_data"
    }
   ],
   "source": [
    "z = torch.linspace(-1.5, 1.5, 1000).unsqueeze(1)\n",
    "x = model(z).detach()\n",
    "plt.plot(z[:, 0], z[:, 0], label='reference')\n",
    "plt.plot(z[:, 0], x[:, 0], label='f(z)')\n",
    "plt.xlim(-1.5, 1.5)\n",
    "plt.ylim(-1.5, 1.5)\n",
    "plt.legend()\n",
    "plt.show()"
   ],
   "metadata": {
    "collapsed": false,
    "ExecuteTime": {
     "end_time": "2023-12-08T11:23:46.095199Z",
     "start_time": "2023-12-08T11:23:45.852172Z"
    }
   },
   "id": "f883f44b9f08041f"
  }
 ],
 "metadata": {
  "kernelspec": {
   "display_name": "Python 3",
   "language": "python",
   "name": "python3"
  },
  "language_info": {
   "codemirror_mode": {
    "name": "ipython",
    "version": 2
   },
   "file_extension": ".py",
   "mimetype": "text/x-python",
   "name": "python",
   "nbconvert_exporter": "python",
   "pygments_lexer": "ipython2",
   "version": "2.7.6"
  }
 },
 "nbformat": 4,
 "nbformat_minor": 5
}
